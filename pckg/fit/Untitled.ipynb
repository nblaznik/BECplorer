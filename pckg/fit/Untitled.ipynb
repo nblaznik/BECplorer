{
 "cells": [
  {
   "cell_type": "code",
   "execution_count": 5,
   "id": "47233fb7",
   "metadata": {
    "ExecuteTime": {
     "end_time": "2025-08-18T22:35:32.903585Z",
     "start_time": "2025-08-18T22:35:32.890644Z"
    }
   },
   "outputs": [],
   "source": [
    "import numpy as np\n",
    "from scipy.special import erf\n",
    "from scipy.optimize import least_squares\n",
    "\n",
    "def error_func(x, A, mu, sigma, C):\n",
    "    # A/2 * (1 + erf((x - mu)/(sqrt(2)*sigma))) + C\n",
    "    return A * 0.5 * (1.0 + erf((x - mu) / (np.sqrt(2) * sigma))) + C\n",
    "\n",
    "def _finite_xy(x, y):\n",
    "    x = np.asarray(x, float).ravel()\n",
    "    y = np.asarray(y, float).ravel()\n",
    "    m = np.isfinite(x) & np.isfinite(y)\n",
    "    return x[m], y[m]\n",
    "\n",
    "def _initial_guess(x, y):\n",
    "    # Robust amplitude and offset from percentiles\n",
    "    y_lo = np.percentile(y, 10)\n",
    "    y_hi = np.percentile(y, 90)\n",
    "    A_guess = y_hi - y_lo\n",
    "    if abs(A_guess) < 1e-12:\n",
    "        A_guess = (np.max(y) - np.min(y)) or 1.0\n",
    "    C_guess = y_lo\n",
    "\n",
    "    # Midpoint target and mu guess\n",
    "    y_mid = C_guess + 0.5 * A_guess\n",
    "    mu_guess = x[np.argmin(np.abs(y - y_mid))]\n",
    "\n",
    "    # Sigma guess from 16–84% width (≈2σ)\n",
    "    y_16 = C_guess + 0.158655 * A_guess\n",
    "    y_84 = C_guess + 0.841345 * A_guess\n",
    "    # nearest x at those levels\n",
    "    x16 = x[np.argmin(np.abs(y - y_16))]\n",
    "    x84 = x[np.argmin(np.abs(y - y_84))]\n",
    "    width = abs(x84 - x16)\n",
    "    sigma_guess = max(width / 2.0, (np.max(x) - np.min(x)) / 20.0, 1e-6)\n",
    "\n",
    "    return np.array([A_guess, mu_guess, sigma_guess, C_guess], float)\n",
    "\n",
    "def fit_error_func_safe(x, y, p0=None):\n",
    "    \"\"\"\n",
    "    Robust fit of an error-function step ignoring NaNs/Infs.\n",
    "\n",
    "    Returns\n",
    "    -------\n",
    "    popt : (A, mu, sigma, C)\n",
    "    pcov : covariance (approx.; None if unavailable)\n",
    "    info : dict with diagnostics\n",
    "    \"\"\"\n",
    "    x, y = _finite_xy(x, y)\n",
    "    if x.size < 4:\n",
    "        raise ValueError(\"Not enough finite data points to fit.\")\n",
    "\n",
    "    if p0 is None:\n",
    "        p0 = _initial_guess(x, y)\n",
    "\n",
    "    # bounds: sigma > 0, mu within data range\n",
    "    xmin, xmax = np.min(x), np.max(x)\n",
    "    lower = np.array([-np.inf, xmin, 1e-9, -np.inf], float)\n",
    "    upper = np.array([ np.inf, xmax, (xmax - xmin),  np.inf], float)\n",
    "\n",
    "    def resid(theta):\n",
    "        A, mu, sigma, C = theta\n",
    "        return error_func(x, A, mu, sigma, C) - y\n",
    "\n",
    "    res = least_squares(\n",
    "        resid, p0, bounds=(lower, upper), loss=\"soft_l1\", f_scale=1.0, max_nfev=2000\n",
    "    )\n",
    "\n",
    "    popt = res.x\n",
    "\n",
    "    # Approximate covariance from Jacobian at solution (if full rank)\n",
    "    pcov = None\n",
    "    if res.jac is not None and res.jac.shape[0] >= res.jac.shape[1]:\n",
    "        JTJ = res.jac.T @ res.jac\n",
    "        try:\n",
    "            pcov = np.linalg.inv(JTJ) * np.sum(res.fun**2) / max(len(y) - len(popt), 1)\n",
    "        except np.linalg.LinAlgError:\n",
    "            pcov = None\n",
    "\n",
    "    info = {\n",
    "        \"success\": res.success,\n",
    "        \"message\": res.message,\n",
    "        \"nfev\": res.nfev,\n",
    "        \"cost\": res.cost,\n",
    "        \"initial_guess\": p0,\n",
    "        \"bounds\": (lower, upper),\n",
    "    }\n",
    "    return popt, pcov, info\n"
   ]
  },
  {
   "cell_type": "code",
   "execution_count": 8,
   "id": "9ef649fe",
   "metadata": {
    "ExecuteTime": {
     "end_time": "2025-08-18T22:35:56.148075Z",
     "start_time": "2025-08-18T22:35:56.033304Z"
    }
   },
   "outputs": [
    {
     "name": "stdout",
     "output_type": "stream",
     "text": [
      "Fit parameters: [-0.99458613  0.01113558  0.54889956  0.09376984]\n"
     ]
    },
    {
     "data": {
      "image/png": "[encoded data removed]",
      "text/plain": [
       "<Figure size 432x288 with 1 Axes>"
      ]
     },
     "metadata": {
      "needs_background": "light"
     },
     "output_type": "display_data"
    }
   ],
   "source": [
    "import matplotlib.pyplot as plt\n",
    "\n",
    "# Generate synthetic data\n",
    "x = np.linspace(-5, 5, 200)\n",
    "y_true = error_func(x, A=-1.0, mu=0.0, sigma=0.5, C=0.1)\n",
    "y_noisy = y_true + 0.05 * np.random.randn(len(x))\n",
    "\n",
    "# Fit\n",
    "popt, pcov, info = fit_error_func_safe(x, y_noisy)\n",
    "A, mu, sigma, C = popt\n",
    "# model = error_func(x, *popt)\n",
    "print(\"Fit parameters:\", popt)\n",
    "\n",
    "# Plot\n",
    "plt.scatter(x, y_noisy, s=10, label=\"Data\")\n",
    "plt.plot(x, error_func(x, *popt), 'r-', label=\"Fit\")\n",
    "plt.legend()\n",
    "plt.show()\n"
   ]
  },
  {
   "cell_type": "code",
   "execution_count": null,
   "id": "630874a4",
   "metadata": {},
   "outputs": [],
   "source": []
  },
  {
   "cell_type": "code",
   "execution_count": null,
   "id": "b6f161db",
   "metadata": {},
   "outputs": [],
   "source": []
  }
 ],
 "metadata": {
  "kernelspec": {
   "display_name": "Python 3",
   "language": "python",
   "name": "python3"
  },
  "language_info": {
   "codemirror_mode": {
    "name": "ipython",
    "version": 3
   },
   "file_extension": ".py",
   "mimetype": "text/x-python",
   "name": "python",
   "nbconvert_exporter": "python",
   "pygments_lexer": "ipython3",
   "version": "3.8.10"
  },
  "toc": {
   "base_numbering": 1,
   "nav_menu": {},
   "number_sections": true,
   "sideBar": true,
   "skip_h1_title": false,
   "title_cell": "Table of Contents",
   "title_sidebar": "Contents",
   "toc_cell": false,
   "toc_position": {},
   "toc_section_display": true,
   "toc_window_display": false
  }
 },
 "nbformat": 4,
 "nbformat_minor": 5
}
